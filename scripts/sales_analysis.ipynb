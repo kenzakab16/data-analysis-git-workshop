{
 "cells": [
  {
   "cell_type": "code",
   "execution_count": null,
   "id": "58431d1c",
   "metadata": {},
   "outputs": [],
   "source": [
    "import pandas as pd"
   ]
  },
  {
   "cell_type": "code",
   "execution_count": null,
   "id": "e67d6a9a",
   "metadata": {},
   "outputs": [],
   "source": [
    "DataFrame = pd.read_csv(\"data/sales.csv\")\n",
    "print(\"Dataset chargé :\")\n",
    "print(df.head())"
   ]
  },
  {
   "cell_type": "code",
   "execution_count": null,
   "id": "e97106b9",
   "metadata": {},
   "outputs": [],
   "source": [
    "#df.fillna(0, inplace=True)"
   ]
  },
  {
   "cell_type": "code",
   "execution_count": null,
   "id": "2a8de031",
   "metadata": {},
   "outputs": [],
   "source": [
    "# Supprimer les valeurs manquantes\n",
    "#df.dropna(inplace=True)\n",
    "df.fillna(0, inplace=True)\n",
    "\n",
    "# Réinitialiser l’index après nettoyage\n",
    "df.reset_index(drop=True, inplace=True)\n",
    "\n",
    "print(df)"
   ]
  },
  {
   "cell_type": "code",
   "execution_count": null,
   "id": "0d76f30e",
   "metadata": {},
   "outputs": [],
   "source": [
    "print(df.describe()).T"
   ]
  },
  {
   "cell_type": "code",
   "execution_count": null,
   "id": "fe3aa4db",
   "metadata": {},
   "outputs": [],
   "source": [
    "import matplotlib.pyplot as plt\n",
    "\n",
    "# Tendances de vente par date\n",
    "df[\"date\"] = pd.to_datetime(df[\"date\"])\n",
    "df.groupby(\"date\")[\"quantity\"].sum().plot(kind=\"line\", marker='o')\n",
    "plt.title(\"Tendances des ventes dans le temps\")\n",
    "plt.xlabel(\"Date\")\n",
    "plt.ylabel(\"Quantité vendue\")\n",
    "plt.grid(True)\n",
    "plt.show()\n",
    "\n",
    "# Quantité par produit (bar chart)\n",
    "df.groupby(\"product\")[\"quantity\"].sum().plot(kind=\"bar\")\n",
    "plt.title(\"Quantité totale vendue par produit\")\n",
    "plt.xlabel(\"Produit\")\n",
    "plt.ylabel(\"Quantité\")\n",
    "plt.show()"
   ]
  }
 ],
 "metadata": {
  "language_info": {
   "name": "python"
  }
 },
 "nbformat": 4,
 "nbformat_minor": 5
}
